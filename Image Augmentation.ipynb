{
 "cells": [
  {
   "cell_type": "code",
   "execution_count": 1,
   "id": "917d9c3c",
   "metadata": {},
   "outputs": [],
   "source": [
    "import cv2\n",
    "import random\n",
    "import numpy as np"
   ]
  },
  {
   "cell_type": "code",
   "execution_count": 4,
   "id": "ce790ca6",
   "metadata": {},
   "outputs": [
    {
     "name": "stdout",
     "output_type": "stream",
     "text": [
      "<class 'numpy.ndarray'>\n",
      "(479, 480, 3)\n"
     ]
    }
   ],
   "source": [
    "sunny=cv2.imread(\"C:\\\\Users\\\\Niharika\\\\OneDrive\\\\Desktop\\\\Panda.jpg\")\n",
    "print(type(sunny))\n",
    "print(sunny.shape)"
   ]
  },
  {
   "cell_type": "code",
   "execution_count": 5,
   "id": "bd31407d",
   "metadata": {},
   "outputs": [],
   "source": [
    "def flip(img):\n",
    "        return cv2.flip(img,random.randint(-1,1))"
   ]
  },
  {
   "cell_type": "code",
   "execution_count": 6,
   "id": "f5118ef3",
   "metadata": {},
   "outputs": [],
   "source": [
    "def crop(img,resize_shape=(512,512),min_hight=100,min_width=100):\n",
    "    image_shape = sunny.shape\n",
    "    upper_row = random.choice(range(0,round(image_shape[0]*0.1)))\n",
    "    lower_row = random.choice(range(upper_row+100,image_shape[0]))\n",
    "\n",
    "    start_column = random.choice(range(0,round(image_shape[1]*0.1)))\n",
    "    end_column = random.choice(range(start_column+100,image_shape[1]))\n",
    "    crop_ = img[upper_row:lower_row, start_column:end_column]\n",
    "    re_size = cv2.resize(crop_,resize_shape)\n",
    "    return re_size"
   ]
  },
  {
   "cell_type": "code",
   "execution_count": 7,
   "id": "7e744646",
   "metadata": {},
   "outputs": [],
   "source": [
    "def rotation(img):\n",
    "    angle = int(random.randint(45, 75))\n",
    "    h, w = img.shape[:2]\n",
    "    M = cv2.getRotationMatrix2D((int(w/2), int(h/2)), angle, 1)\n",
    "    rotate = cv2.warpAffine(img, M, (w, h))\n",
    "    return rotate"
   ]
  },
  {
   "cell_type": "code",
   "execution_count": 8,
   "id": "1f2dc84a",
   "metadata": {},
   "outputs": [],
   "source": [
    "def resize(img,resize_shape=(512,512)):\n",
    "    resize_img = cv2.resize(img,resize_shape)\n",
    "    return resize_img"
   ]
  },
  {
   "cell_type": "code",
   "execution_count": 9,
   "id": "dcd1fa79",
   "metadata": {},
   "outputs": [],
   "source": [
    "def contrast(img):\n",
    "        value=random.randint(0,200)\n",
    "        hsv = cv2.cvtColor(img, cv2.COLOR_BGR2HSV)\n",
    "        h, s, v = cv2.split(hsv)\n",
    "        lim = 255 - value\n",
    "        v[v > lim] = 255\n",
    "        v[v <= lim] += value\n",
    "\n",
    "        final_hsv = cv2.merge((h, s, v))\n",
    "        img = cv2.cvtColor(final_hsv, cv2.COLOR_HSV2BGR)\n",
    "        return img"
   ]
  },
  {
   "cell_type": "code",
   "execution_count": 14,
   "id": "b0b67ab0",
   "metadata": {},
   "outputs": [
    {
     "name": "stdout",
     "output_type": "stream",
     "text": [
      "done\n"
     ]
    }
   ],
   "source": [
    "if __name__ == \"__main__\":\n",
    "    img = sunny\n",
    "    resize_shape = (512,512)\n",
    "    resize_ = resize(img,resize_shape)\n",
    "\n",
    "    flip_= flip(img)\n",
    "\n",
    "    crop_ = crop(img,resize_shape)\n",
    "   \n",
    "    rotate_ = rotation(img)\n",
    "   \n",
    "    contrast_ = contrast(img)\n",
    "   \n",
    "    l = [img,crop_,flip_,rotate_,contrast_,resize_]\n",
    "    no = 23\n",
    "    for i in l:\n",
    "        file_name = \"C:\\\\Users\\\\Niharika\\\\OneDrive\\\\Desktop\\\\PERSONAL\"+ str(no) + \".jpg\"\n",
    "        no += 1\n",
    "        \n",
    "        cv2.imwrite(file_name,i)\n",
    "       \n",
    "    print('done')"
   ]
  },
  {
   "cell_type": "code",
   "execution_count": 15,
   "id": "0b232a70",
   "metadata": {},
   "outputs": [
    {
     "name": "stdout",
     "output_type": "stream",
     "text": [
      "5\n",
      "[<function contrast at 0x00000145029073A0>, <function rotation at 0x0000014504143F70>, <function flip at 0x0000014502907310>, <function crop at 0x00000145028EE790>, <function resize at 0x000001450284D4C0>]\n",
      "<function contrast at 0x00000145029073A0>\n",
      "<function rotation at 0x0000014504143F70>\n",
      "<function flip at 0x0000014502907310>\n",
      "<function crop at 0x00000145028EE790>\n",
      "<function resize at 0x000001450284D4C0>\n",
      "5\n",
      "[<function flip at 0x0000014502907310>, <function contrast at 0x00000145029073A0>, <function crop at 0x00000145028EE790>, <function rotation at 0x0000014504143F70>, <function resize at 0x000001450284D4C0>]\n",
      "<function flip at 0x0000014502907310>\n",
      "<function contrast at 0x00000145029073A0>\n",
      "<function crop at 0x00000145028EE790>\n",
      "<function rotation at 0x0000014504143F70>\n",
      "<function resize at 0x000001450284D4C0>\n",
      "1\n",
      "[<function resize at 0x000001450284D4C0>]\n",
      "<function resize at 0x000001450284D4C0>\n"
     ]
    }
   ],
   "source": [
    "n=3 #int(input('how many images do you want to augment:\\n'))\n",
    "list_of_op = [flip,crop,rotation,resize,contrast]\n",
    "img_p=sunny.copy()\n",
    "# print(len(list_of_op))\n",
    "processed_img=[]\n",
    "for i in range(n):\n",
    "    no_of_op = random.randint(1,len(list_of_op))\n",
    "    print(no_of_op)\n",
    "    \n",
    "    random.shuffle(list_of_op)\n",
    "    selected_op=list_of_op[0:no_of_op]\n",
    "    print(selected_op)\n",
    "    for j in selected_op:\n",
    "        print(j)\n",
    "        img_p=j(img_p)\n",
    "    processed_img.append(img_p)"
   ]
  },
  {
   "cell_type": "code",
   "execution_count": null,
   "id": "ec261914",
   "metadata": {},
   "outputs": [],
   "source": []
  },
  {
   "cell_type": "code",
   "execution_count": null,
   "id": "b35b2696",
   "metadata": {},
   "outputs": [],
   "source": []
  }
 ],
 "metadata": {
  "kernelspec": {
   "display_name": "Python 3 (ipykernel)",
   "language": "python",
   "name": "python3"
  },
  "language_info": {
   "codemirror_mode": {
    "name": "ipython",
    "version": 3
   },
   "file_extension": ".py",
   "mimetype": "text/x-python",
   "name": "python",
   "nbconvert_exporter": "python",
   "pygments_lexer": "ipython3",
   "version": "3.9.7"
  }
 },
 "nbformat": 4,
 "nbformat_minor": 5
}
